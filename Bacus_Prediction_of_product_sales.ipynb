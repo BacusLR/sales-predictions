{
  "nbformat": 4,
  "nbformat_minor": 0,
  "metadata": {
    "colab": {
      "provenance": [],
      "authorship_tag": "ABX9TyP7ilW9pyayuc3+KLQilxkb",
      "include_colab_link": true
    },
    "kernelspec": {
      "name": "python3",
      "display_name": "Python 3"
    },
    "language_info": {
      "name": "python"
    }
  },
  "cells": [
    {
      "cell_type": "markdown",
      "metadata": {
        "id": "view-in-github",
        "colab_type": "text"
      },
      "source": [
        "<a href=\"https://colab.research.google.com/github/BacusLR/sales-predictions/blob/main/Bacus_Prediction_of_product_sales.ipynb\" target=\"_parent\"><img src=\"https://colab.research.google.com/assets/colab-badge.svg\" alt=\"Open In Colab\"/></a>"
      ]
    },
    {
      "cell_type": "markdown",
      "source": [
        "# Prediction of Product Sales"
      ],
      "metadata": {
        "id": "6pk7B5NI-qjN"
      }
    },
    {
      "cell_type": "markdown",
      "source": [
        "- Author: Lorincio R Bacus Jr"
      ],
      "metadata": {
        "id": "zeFAHWRd_EJt"
      }
    },
    {
      "cell_type": "markdown",
      "source": [
        "## Project Overview"
      ],
      "metadata": {
        "id": "wcxOifMp_T4x"
      }
    },
    {
      "cell_type": "markdown",
      "source": [],
      "metadata": {
        "id": "lXjdahmS_dTW"
      }
    },
    {
      "cell_type": "markdown",
      "source": [
        "## Load and Inspect Data"
      ],
      "metadata": {
        "id": "5gyhkMBd_fYt"
      }
    },
    {
      "cell_type": "code",
      "source": [],
      "metadata": {
        "id": "CI3we2nm_pfu"
      },
      "execution_count": null,
      "outputs": []
    },
    {
      "cell_type": "markdown",
      "source": [
        "## Clean Data"
      ],
      "metadata": {
        "id": "VgrPh9mw_qSs"
      }
    },
    {
      "cell_type": "code",
      "source": [],
      "metadata": {
        "id": "hMUl5H7Y_vHU"
      },
      "execution_count": null,
      "outputs": []
    },
    {
      "cell_type": "markdown",
      "source": [
        "## Exploratory Data Analysis"
      ],
      "metadata": {
        "id": "HNAVjSM5_v21"
      }
    },
    {
      "cell_type": "code",
      "source": [],
      "metadata": {
        "id": "EnhO0uKN_6bi"
      },
      "execution_count": null,
      "outputs": []
    },
    {
      "cell_type": "markdown",
      "source": [
        "## Exploratory Data Analysis"
      ],
      "metadata": {
        "id": "xhpK-mYy_7X_"
      }
    },
    {
      "cell_type": "code",
      "source": [],
      "metadata": {
        "id": "3DjrMnP5AIq8"
      },
      "execution_count": null,
      "outputs": []
    }
  ]
}